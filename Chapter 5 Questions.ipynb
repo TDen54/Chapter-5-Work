{
 "cells": [
  {
   "cell_type": "markdown",
   "id": "c2e016ef",
   "metadata": {},
   "source": [
    "#Chapter 5 Questions"
   ]
  },
  {
   "cell_type": "markdown",
   "id": "4d343011",
   "metadata": {},
   "source": [
    "##Workbench Question 1"
   ]
  },
  {
   "cell_type": "code",
   "execution_count": 1,
   "id": "d1b61931",
   "metadata": {},
   "outputs": [
    {
     "name": "stdout",
     "output_type": "stream",
     "text": [
      "The product of 6 multiplied by 10 is: 60\n"
     ]
    }
   ],
   "source": [
    "def multiply_by_10(number):\n",
    "    result = number * 10\n",
    "    print(f\"The product of {number} multiplied by 10 is: {result}\")\n",
    "input_number = 6\n",
    "multiply_by_10(input_number)"
   ]
  },
  {
   "cell_type": "code",
   "execution_count": 2,
   "id": "70fddddd",
   "metadata": {},
   "outputs": [
    {
     "name": "stdout",
     "output_type": "stream",
     "text": [
      "The product of 2 multiplied by 10 is: 20\n"
     ]
    }
   ],
   "source": [
    "def multiply_by_10(number):\n",
    "    result = number * 10\n",
    "    print(f\"The product of {number} multiplied by 10 is: {result}\")\n",
    "input_number = 2\n",
    "multiply_by_10(input_number)"
   ]
  },
  {
   "cell_type": "markdown",
   "id": "c503a610",
   "metadata": {},
   "source": [
    "I created the function multiply_by_10 in Python by defining it with the def keyword, followed by the function name and a parameter number to accept an argument. Inside the function, I calculated the result by multiplying the number by 10 and stored it in the result variable. Then, I used the print function to display the result as a formatted string, including the original number and its product with 10."
   ]
  },
  {
   "cell_type": "markdown",
   "id": "2fe4c7c3",
   "metadata": {},
   "source": [
    "##Workbench Question 6"
   ]
  },
  {
   "cell_type": "code",
   "execution_count": 15,
   "id": "4c13238b",
   "metadata": {},
   "outputs": [],
   "source": [
    "import random\n",
    "\n",
    "random_number = random.randint(1, 100)\n"
   ]
  },
  {
   "cell_type": "code",
   "execution_count": 16,
   "id": "fdad9bf6",
   "metadata": {},
   "outputs": [
    {
     "data": {
      "text/plain": [
       "59"
      ]
     },
     "execution_count": 16,
     "metadata": {},
     "output_type": "execute_result"
    }
   ],
   "source": [
    "random_number"
   ]
  },
  {
   "cell_type": "markdown",
   "id": "d7602f73",
   "metadata": {},
   "source": [
    "I achieved this by first importing the random module, which provides functions for generating random numbers. Then, I used the random.randint(1, 100) function, which generates a random integer between 1 and 100 (inclusive), and assigned the result to the random_number variable. This way, random_number holds a random number in the desired range of 1 through 100. After that I just executed the fucntion."
   ]
  },
  {
   "cell_type": "markdown",
   "id": "7b13597e",
   "metadata": {},
   "source": [
    "#Programming Exercises"
   ]
  },
  {
   "cell_type": "markdown",
   "id": "a80dc883",
   "metadata": {},
   "source": [
    "##Question 1"
   ]
  },
  {
   "cell_type": "code",
   "execution_count": 17,
   "id": "ef958678",
   "metadata": {},
   "outputs": [
    {
     "name": "stdout",
     "output_type": "stream",
     "text": [
      "Enter a distance in kilometers: 17\n",
      "17.0 kilometers is equal to 10.563799999999999 miles.\n"
     ]
    }
   ],
   "source": [
    "kilometers = float(input(\"Enter a distance in kilometers: \"))\n",
    "miles = kilometers * 0.6214\n",
    "print(f\"{kilometers} kilometers is equal to {miles} miles.\")\n"
   ]
  },
  {
   "cell_type": "markdown",
   "id": "6fbcb6dc",
   "metadata": {},
   "source": [
    "I used the input function to enter a distance in kilometers, and I converted the input to a floating-point number using float() to handle decimal values. Then I applied the provided conversion formula, multiplying the input value (in kilometers) by 0.6214 to calculate the equivalent distance in miles. Finally, I used the print function to display the original distance in kilometers and the converted distance in miles as a formatted string, providing the result to the user."
   ]
  },
  {
   "cell_type": "markdown",
   "id": "d4bc52c0",
   "metadata": {},
   "source": [
    "##Question 17"
   ]
  },
  {
   "cell_type": "code",
   "execution_count": 18,
   "id": "0e8a88a1",
   "metadata": {},
   "outputs": [
    {
     "name": "stdout",
     "output_type": "stream",
     "text": [
      "Enter a number: 23\n",
      "23 is a prime number.\n"
     ]
    }
   ],
   "source": [
    "def is_prime(number):\n",
    "    if number <= 1:\n",
    "        return False\n",
    "    elif number <= 3:\n",
    "        return True\n",
    "    elif number % 2 == 0 or number % 3 == 0:\n",
    "        return False\n",
    "    i = 5\n",
    "    while i * i <= number:\n",
    "        if number % i == 0 or number % (i + 2) == 0:\n",
    "            return False\n",
    "        i += 6\n",
    "    return True\n",
    "user_input = int(input(\"Enter a number: \"))\n",
    "if is_prime(user_input):\n",
    "    print(f\"{user_input} is a prime number.\")\n",
    "else:\n",
    "    print(f\"{user_input} is not a prime number.\")"
   ]
  },
  {
   "cell_type": "code",
   "execution_count": 20,
   "id": "54117414",
   "metadata": {},
   "outputs": [
    {
     "name": "stdout",
     "output_type": "stream",
     "text": [
      "Enter a number: 48\n",
      "48 is not a prime number.\n"
     ]
    }
   ],
   "source": [
    "def is_prime(number):\n",
    "    if number <= 1:\n",
    "        return False\n",
    "    elif number <= 3:\n",
    "        return True\n",
    "    elif number % 2 == 0 or number % 3 == 0:\n",
    "        return False\n",
    "    i = 5\n",
    "    while i * i <= number:\n",
    "        if number % i == 0 or number % (i + 2) == 0:\n",
    "            return False\n",
    "        i += 6\n",
    "    return True\n",
    "user_input = int(input(\"Enter a number: \"))\n",
    "if is_prime(user_input):\n",
    "    print(f\"{user_input} is a prime number.\")\n",
    "else:\n",
    "    print(f\"{user_input} is not a prime number.\")"
   ]
  },
  {
   "cell_type": "markdown",
   "id": "025f2c06",
   "metadata": {},
   "source": [
    "I defined a function called is_prime that takes an integer number as an argument. Inside this function, I implemented a prime-checking algorithm that efficiently checks whether the given number is prime or not. The function starts by handling special cases where the number is less than or equal to 1 or is equal to 2 or 3. These cases are handled separately. For other numbers, I implemented a loop that checks divisibility by numbers up to the square root of the given number. This approach reduces the number of necessary checks and makes the prime-checking process more efficient. Finally, the program prompts me to enter a number, calls the is_prime function to check if it's prime or not, and displays an appropriate message to inform of the result."
   ]
  },
  {
   "cell_type": "markdown",
   "id": "2d807897",
   "metadata": {},
   "source": [
    "##Question 18"
   ]
  },
  {
   "cell_type": "code",
   "execution_count": 21,
   "id": "acf512ff",
   "metadata": {},
   "outputs": [
    {
     "name": "stdout",
     "output_type": "stream",
     "text": [
      "Prime numbers from 1 to 100:\n",
      "2\n",
      "3\n",
      "5\n",
      "7\n",
      "11\n",
      "13\n",
      "17\n",
      "19\n",
      "23\n",
      "29\n",
      "31\n",
      "37\n",
      "41\n",
      "43\n",
      "47\n",
      "53\n",
      "59\n",
      "61\n",
      "67\n",
      "71\n",
      "73\n",
      "79\n",
      "83\n",
      "89\n",
      "97\n"
     ]
    }
   ],
   "source": [
    "def is_prime(number):\n",
    "    if number <= 1:\n",
    "        return False\n",
    "    elif number <= 3:\n",
    "        return True\n",
    "    elif number % 2 == 0 or number % 3 == 0:\n",
    "        return False\n",
    "    i = 5\n",
    "    while i * i <= number:\n",
    "        if number % i == 0 or number % (i + 2) == 0:\n",
    "            return False\n",
    "        i += 6\n",
    "    return True\n",
    "print(\"Prime numbers from 1 to 100:\")\n",
    "for num in range(1, 101):\n",
    "    if is_prime(num):\n",
    "        print(num)"
   ]
  },
  {
   "cell_type": "markdown",
   "id": "9a013b36",
   "metadata": {},
   "source": [
    "I used a for loop to iterate through numbers from 1 to 100. Inside the loop, I called the is_prime function for each number to determine if it's prime or not. If the number is prime (according to the is_prime function), I printed it to the console. This process repeats for all numbers from 1 to 100, effectively displaying all prime numbers in that range."
   ]
  },
  {
   "cell_type": "markdown",
   "id": "1b283786",
   "metadata": {},
   "source": [
    "##Question 10"
   ]
  },
  {
   "cell_type": "code",
   "execution_count": 22,
   "id": "f4e053a8",
   "metadata": {},
   "outputs": [
    {
     "name": "stdout",
     "output_type": "stream",
     "text": [
      "Enter a number of feet: 14\n",
      "14.0 feet is equal to 168.0 inches.\n"
     ]
    }
   ],
   "source": [
    "def feet_to_inches(feet):\n",
    "    inches = feet * 12\n",
    "    return inches\n",
    "user_feet = float(input(\"Enter a number of feet: \"))\n",
    "inches_result = feet_to_inches(user_feet)\n",
    "print(f\"{user_feet} feet is equal to {inches_result} inches.\")"
   ]
  },
  {
   "cell_type": "markdown",
   "id": "f85c5ed1",
   "metadata": {},
   "source": [
    "I defined a function called feet_to_inches that accepts a number of feet as an argument and calculates the equivalent number of inches by multiplying it by 12. The program uses the input function to prompt me to enter a number of feet, and it converts the input to a floating-point number using float() to handle decimal values. It calls the feet_to_inches function with input to perform the conversion. Finally, it displays the original number of feet entered by me and the calculated equivalent number of inches, providing the result."
   ]
  },
  {
   "cell_type": "code",
   "execution_count": null,
   "id": "7188f641",
   "metadata": {},
   "outputs": [],
   "source": []
  }
 ],
 "metadata": {
  "kernelspec": {
   "display_name": "Python 3 (ipykernel)",
   "language": "python",
   "name": "python3"
  },
  "language_info": {
   "codemirror_mode": {
    "name": "ipython",
    "version": 3
   },
   "file_extension": ".py",
   "mimetype": "text/x-python",
   "name": "python",
   "nbconvert_exporter": "python",
   "pygments_lexer": "ipython3",
   "version": "3.11.4"
  }
 },
 "nbformat": 4,
 "nbformat_minor": 5
}
